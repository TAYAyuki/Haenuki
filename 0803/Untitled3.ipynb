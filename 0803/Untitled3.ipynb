{
 "cells": [
  {
   "cell_type": "code",
   "execution_count": 7,
   "metadata": {},
   "outputs": [],
   "source": [
    "#ライブラリのインポート\n",
    "import pandas as pd\n",
    "import matplotlib.pyplot as plt\n",
    "import seaborn as sns\n",
    "import numpy as np\n",
    "from sklearn.ensemble import RandomForestClassifier as RFC\n",
    "from sklearn.ensemble import GradientBoostingClassifier as GFC\n",
    "from sklearn.model_selection import GridSearchCV\n",
    "from pandas import Series, DataFrame\n",
    "%matplotlib inline"
   ]
  },
  {
   "cell_type": "code",
   "execution_count": 8,
   "metadata": {},
   "outputs": [],
   "source": [
    "#データの読み込み\n",
    "train = pd.read_csv(\"./dataset/input/train.csv\")\n",
    "test=pd.read_csv('./dataset/input/test.csv')"
   ]
  },
  {
   "cell_type": "code",
   "execution_count": 9,
   "metadata": {},
   "outputs": [],
   "source": [
    "train[\"y\"] = (train[\"y\"] == \"yes\").astype(np.int)"
   ]
  },
  {
   "cell_type": "code",
   "execution_count": 10,
   "metadata": {},
   "outputs": [
    {
     "name": "stdout",
     "output_type": "stream",
     "text": [
      "                 id           age        balance           day      duration  \\\n",
      "count  27100.000000  27100.000000   27100.000000  27100.000000  27100.000000   \n",
      "mean   13549.500000     36.073284   47682.901771     16.747565    229.325387   \n",
      "std     7823.240484      7.816417   31650.760036      8.569588    204.939958   \n",
      "min        0.000000     22.000000   -6847.000000      1.000000      0.000000   \n",
      "25%     6774.750000     31.000000   20015.750000      8.000000    121.000000   \n",
      "50%    13549.500000     33.000000   47624.000000     17.000000    158.000000   \n",
      "75%    20324.250000     37.000000   75330.000000     26.000000    345.000000   \n",
      "max    27099.000000     90.000000  102121.000000     31.000000   3076.000000   \n",
      "\n",
      "           campaign         pdays      previous        y  \n",
      "count  27100.000000  27100.000000  27100.000000  27100.0  \n",
      "mean       1.775830    432.482399      0.085720      0.0  \n",
      "std        0.950045    252.150648      0.365889      0.0  \n",
      "min        1.000000     -1.000000      0.000000      0.0  \n",
      "25%        1.000000    214.000000      0.000000      0.0  \n",
      "50%        1.000000    432.000000      0.000000      0.0  \n",
      "75%        2.000000    650.000000      0.000000      0.0  \n",
      "max        5.000000    870.000000      3.000000      0.0  \n",
      "                 id           age        balance           day      duration  \\\n",
      "count  27100.000000  27100.000000   27100.000000  27100.000000  27100.000000   \n",
      "mean   13549.500000     36.073284   47682.901771     16.747565    229.325387   \n",
      "std     7823.240484      7.816417   31650.760036      8.569588    204.939958   \n",
      "min        0.000000     22.000000   -6847.000000      1.000000      0.000000   \n",
      "25%     6774.750000     31.000000   20015.750000      8.000000    121.000000   \n",
      "50%    13549.500000     33.000000   47624.000000     17.000000    158.000000   \n",
      "75%    20324.250000     37.000000   75330.000000     26.000000    345.000000   \n",
      "max    27099.000000     90.000000  102121.000000     31.000000   3076.000000   \n",
      "\n",
      "           campaign         pdays      previous        y  \n",
      "count  27100.000000  27100.000000  27100.000000  27100.0  \n",
      "mean       1.775830    432.483506      0.085720      0.0  \n",
      "std        0.950045    252.148747      0.365889      0.0  \n",
      "min        1.000000      0.000000      0.000000      0.0  \n",
      "25%        1.000000    214.000000      0.000000      0.0  \n",
      "50%        1.000000    432.000000      0.000000      0.0  \n",
      "75%        2.000000    650.000000      0.000000      0.0  \n",
      "max        5.000000    870.000000      3.000000      0.0  \n"
     ]
    }
   ],
   "source": [
    "print(train.describe())\n",
    "train[\"pdays\"] = train[\"pdays\"].replace(-1,0)\n",
    "print(train.describe())"
   ]
  },
  {
   "cell_type": "code",
   "execution_count": 12,
   "metadata": {},
   "outputs": [],
   "source": [
    "train[\"age_range\"] = 1\n",
    "train.loc[train[\"age\"] < 20, \"age_range\"] = 1\n",
    "train.loc[(train[\"age\"] >= 20) & (train[\"age\"] < 30), \"age_range\"] = 2\n",
    "train.loc[(train[\"age\"] >= 30) & (train[\"age\"] < 40), \"age_range\"] = 3\n",
    "train.loc[(train[\"age\"] >= 40) & (train[\"age\"] < 50), \"age_range\"] = 4\n",
    "train.loc[(train[\"age\"] >= 50) & (train[\"age\"] < 60), \"age_range\"] = 5\n",
    "train.loc[(train[\"age\"] >= 60) & (train[\"age\"] < 70), \"age_range\"] = 6\n",
    "train.loc[(train[\"age\"] >= 70) & (train[\"age\"] < 80), \"age_range\"] = 7\n",
    "train.loc[(train[\"age\"] >= 80) & (train[\"age\"] < 90), \"age_range\"] = 8\n",
    "train.loc[train[\"age\"] >= 90, \"age_range\"] = 9"
   ]
  },
  {
   "cell_type": "code",
   "execution_count": 13,
   "metadata": {},
   "outputs": [
    {
     "name": "stdout",
     "output_type": "stream",
     "text": [
      "   id  age           job  marital  education default  balance housing loan  \\\n",
      "0   0   31      services  married  secondary      no    12294     yes   no   \n",
      "1   1   29  entrepreneur   single   tertiary      no    43027      no   no   \n",
      "2   2   35    management  married   tertiary      no    12252     yes   no   \n",
      "3   3   31    technician  married  secondary      no    99121     yes  yes   \n",
      "4   4   48    unemployed  married    primary      no    42005     yes   no   \n",
      "5   5   30   blue-collar  married    primary      no    -6160      no   no   \n",
      "6   6   33   blue-collar  married  secondary      no    88282     yes   no   \n",
      "7   7   30        admin.   single  secondary      no    59830     yes   no   \n",
      "8   8   32        admin.   single  secondary      no     7958      no   no   \n",
      "9   9   31   blue-collar  married    primary      no    28066     yes  yes   \n",
      "\n",
      "     contact  day month  duration  campaign  pdays  previous poutcome  y  \\\n",
      "0   cellular   21   nov       101         3    498         0    other  0   \n",
      "1   cellular   22   aug       158         2    702         0  unknown  0   \n",
      "2   cellular   11   nov       351         1    826         0  failure  0   \n",
      "3    unknown   16   may       658         2    120         0  failure  0   \n",
      "4  telephone    3   apr       177         1    273         0  unknown  0   \n",
      "5   cellular   18   aug       158         1    632         0  unknown  0   \n",
      "6   cellular   27   may       345         1    272         0  unknown  0   \n",
      "7   cellular   27   may       184         1    639         0  unknown  0   \n",
      "8   cellular   28   sep       101         1    525         0  success  0   \n",
      "9    unknown   15   may       345         2    433         0  unknown  0   \n",
      "\n",
      "   age_range  \n",
      "0          3  \n",
      "1          2  \n",
      "2          3  \n",
      "3          3  \n",
      "4          4  \n",
      "5          3  \n",
      "6          3  \n",
      "7          3  \n",
      "8          3  \n",
      "9          3  \n"
     ]
    }
   ],
   "source": [
    "print(train.head(10))"
   ]
  },
  {
   "cell_type": "code",
   "execution_count": 14,
   "metadata": {},
   "outputs": [
    {
     "name": "stdout",
     "output_type": "stream",
     "text": [
      "0     1758\n",
      "1        2\n",
      "2       28\n",
      "3       35\n",
      "4       36\n",
      "5       61\n",
      "6      112\n",
      "7      190\n",
      "8      371\n",
      "9    24507\n",
      "Name: balance_range, dtype: int64\n"
     ]
    },
    {
     "data": {
      "text/plain": [
       "(array([1.7580e+03, 2.0000e+00, 2.8000e+01, 3.5000e+01, 3.6000e+01,\n",
       "        6.1000e+01, 1.1200e+02, 1.9000e+02, 3.7100e+02, 2.4507e+04]),\n",
       " array([0. , 0.9, 1.8, 2.7, 3.6, 4.5, 5.4, 6.3, 7.2, 8.1, 9. ]),\n",
       " <a list of 10 Patch objects>)"
      ]
     },
     "execution_count": 14,
     "metadata": {},
     "output_type": "execute_result"
    },
    {
     "data": {
      "image/png": "[encoded data removed]",
      "text/plain": [
       "<Figure size 432x288 with 1 Axes>"
      ]
     },
     "metadata": {
      "needs_background": "light"
     },
     "output_type": "display_data"
    }
   ],
   "source": [
    "train[\"balance_range\"] = 1\n",
    "train.loc[train[\"balance\"] < 0, \"balance_range\"] = 0\n",
    "train.loc[(train[\"balance\"] >= 0) & (train[\"balance\"] < 10), \"balance_range\"] = 1\n",
    "train.loc[(train[\"balance\"] >= 10) & (train[\"balance\"] < 100), \"balance_range\"] = 2\n",
    "train.loc[(train[\"balance\"] >= 100) & (train[\"balance\"] < 250), \"balance_range\"] = 3\n",
    "train.loc[(train[\"balance\"] >= 250) & (train[\"balance\"] < 450), \"balance_range\"] = 4\n",
    "train.loc[(train[\"balance\"] >= 450) & (train[\"balance\"] < 700), \"balance_range\"] = 5\n",
    "train.loc[(train[\"balance\"] >= 700) & (train[\"balance\"] < 1200), \"balance_range\"] = 6\n",
    "train.loc[(train[\"balance\"] >= 1200) & (train[\"balance\"] < 2000), \"balance_range\"] = 7\n",
    "train.loc[(train[\"balance\"] >= 2000) & (train[\"balance\"] < 3500), \"balance_range\"] = 8\n",
    "train.loc[train[\"balance\"] >= 3500, \"balance_range\"] = 9\n",
    " \n",
    "print(train[\"balance_range\"].value_counts(sort=False))\n",
    "plt.hist(train[\"balance_range\"])"
   ]
  },
  {
   "cell_type": "code",
   "execution_count": 15,
   "metadata": {},
   "outputs": [
    {
     "name": "stdout",
     "output_type": "stream",
     "text": [
      "1     7316\n",
      "2    10419\n",
      "3     9365\n",
      "Name: day_range, dtype: int64\n"
     ]
    }
   ],
   "source": [
    "train[\"day_range\"] = 1\n",
    "train.loc[train[\"day\"] <= 10, \"day_range\"] = 1\n",
    "train.loc[(train[\"day\"] > 10) & (train[\"day\"] <= 20), \"day_range\"] = 2\n",
    "train.loc[train[\"day\"] > 20, \"day_range\"] = 3\n",
    "print(train[\"day_range\"].value_counts(sort=False))"
   ]
  },
  {
   "cell_type": "code",
   "execution_count": 16,
   "metadata": {},
   "outputs": [
    {
     "name": "stdout",
     "output_type": "stream",
     "text": [
      "           count  mean\n",
      "day_range             \n",
      "1           7316     0\n",
      "2          10419     0\n",
      "3           9365     0\n",
      "       count  mean\n",
      "month             \n",
      "apr     2005     0\n",
      "aug     3381     0\n",
      "feb     1083     0\n",
      "jan      361     0\n",
      "jul     3307     0\n",
      "jun     3086     0\n",
      "mar      214     0\n",
      "may    11232     0\n",
      "nov     2307     0\n",
      "oct       97     0\n",
      "sep       27     0\n"
     ]
    }
   ],
   "source": [
    "print(train.groupby([\"day_range\"]).agg([\"count\",\"mean\"])[\"y\"])\n",
    "print(train.groupby([\"month\"]).agg([\"count\",\"mean\"])[\"y\"].sort_values(\"mean\",ascending=False))"
   ]
  },
  {
   "cell_type": "code",
   "execution_count": 18,
   "metadata": {},
   "outputs": [
    {
     "name": "stdout",
     "output_type": "stream",
     "text": [
      "           count  mean\n",
      "month_BME             \n",
      "1          26936     0\n",
      "2             16     0\n",
      "3             51     0\n",
      "34            55     0\n",
      "35            19     0\n",
      "36            23     0\n"
     ]
    }
   ],
   "source": [
    "train[\"month_BME\"] = 1\n",
    "train.loc[(train[\"month\"] == \"jan\") & (train[\"day_range\"] == 1), \"month_BME\"] = 3\n",
    "train.loc[(train[\"month\"] == \"jan\") & (train[\"day_range\"] == 2), \"month_BME\"] = 2\n",
    "train.loc[(train[\"month\"] == \"jan\") & (train[\"day_range\"] == 3), \"month_BME\"] = 1\n",
    "train.loc[(train[\"month\"] == \"oct\") & (train[\"day_range\"] == 1), \"month_BME\"] = 36\n",
    "train.loc[(train[\"month\"] == \"oct\") & (train[\"day_range\"] == 2), \"month_BME\"] = 35\n",
    "train.loc[(train[\"month\"] == \"oct\") & (train[\"day_range\"] == 3), \"month_BME\"] = 34\n",
    " \n",
    "print(train.groupby([\"month_BME\"]).agg([\"count\",\"mean\"])[\"y\"].sort_values(\"mean\"))"
   ]
  },
  {
   "cell_type": "code",
   "execution_count": 21,
   "metadata": {},
   "outputs": [],
   "source": [
    "from sklearn import preprocessing"
   ]
  },
  {
   "cell_type": "code",
   "execution_count": 42,
   "metadata": {},
   "outputs": [],
   "source": [
    "train_le = train.copy()\n",
    "test_le = test.copy()\n",
    "\n",
    "for col in [\"job\",\"marital\",\"education\",\"default\",\"housing\",\"loan\",\"contact\",\"month\",\"poutcome\"]:\n",
    "    le = preprocessing.LabelEncoder()\n",
    "    le.fit(pd.concat([train_le[col], test_le[col]], axis=0))\n",
    "    train_le[col] = le.transform(train[col])\n",
    "    test_le[col] = le.transform(test[col])"
   ]
  },
  {
   "cell_type": "code",
   "execution_count": 43,
   "metadata": {},
   "outputs": [
    {
     "data": {
      "text/html": [
       "<div>\n",
       "<style scoped>\n",
       "    .dataframe tbody tr th:only-of-type {\n",
       "        vertical-align: middle;\n",
       "    }\n",
       "\n",
       "    .dataframe tbody tr th {\n",
       "        vertical-align: top;\n",
       "    }\n",
       "\n",
       "    .dataframe thead th {\n",
       "        text-align: right;\n",
       "    }\n",
       "</style>\n",
       "<table border=\"1\" class=\"dataframe\">\n",
       "  <thead>\n",
       "    <tr style=\"text-align: right;\">\n",
       "      <th></th>\n",
       "      <th>id</th>\n",
       "      <th>age</th>\n",
       "      <th>balance</th>\n",
       "      <th>day</th>\n",
       "      <th>duration</th>\n",
       "      <th>campaign</th>\n",
       "      <th>pdays</th>\n",
       "      <th>previous</th>\n",
       "      <th>y</th>\n",
       "      <th>age_range</th>\n",
       "      <th>balance_range</th>\n",
       "      <th>day_range</th>\n",
       "      <th>month_BME</th>\n",
       "    </tr>\n",
       "  </thead>\n",
       "  <tbody>\n",
       "    <tr>\n",
       "      <td>id</td>\n",
       "      <td>1.000000</td>\n",
       "      <td>0.008676</td>\n",
       "      <td>0.002334</td>\n",
       "      <td>-0.001724</td>\n",
       "      <td>-0.001855</td>\n",
       "      <td>-0.007897</td>\n",
       "      <td>0.001370</td>\n",
       "      <td>-0.003045</td>\n",
       "      <td>NaN</td>\n",
       "      <td>0.010516</td>\n",
       "      <td>0.005292</td>\n",
       "      <td>-0.003861</td>\n",
       "      <td>0.008151</td>\n",
       "    </tr>\n",
       "    <tr>\n",
       "      <td>age</td>\n",
       "      <td>0.008676</td>\n",
       "      <td>1.000000</td>\n",
       "      <td>-0.001185</td>\n",
       "      <td>-0.059669</td>\n",
       "      <td>-0.055642</td>\n",
       "      <td>0.037633</td>\n",
       "      <td>0.008550</td>\n",
       "      <td>0.037545</td>\n",
       "      <td>NaN</td>\n",
       "      <td>0.931981</td>\n",
       "      <td>-0.005029</td>\n",
       "      <td>-0.062390</td>\n",
       "      <td>0.040485</td>\n",
       "    </tr>\n",
       "    <tr>\n",
       "      <td>balance</td>\n",
       "      <td>0.002334</td>\n",
       "      <td>-0.001185</td>\n",
       "      <td>1.000000</td>\n",
       "      <td>0.003816</td>\n",
       "      <td>0.003144</td>\n",
       "      <td>-0.001229</td>\n",
       "      <td>0.003018</td>\n",
       "      <td>0.009717</td>\n",
       "      <td>NaN</td>\n",
       "      <td>0.000643</td>\n",
       "      <td>0.464260</td>\n",
       "      <td>0.005925</td>\n",
       "      <td>-0.002172</td>\n",
       "    </tr>\n",
       "    <tr>\n",
       "      <td>day</td>\n",
       "      <td>-0.001724</td>\n",
       "      <td>-0.059669</td>\n",
       "      <td>0.003816</td>\n",
       "      <td>1.000000</td>\n",
       "      <td>0.134440</td>\n",
       "      <td>-0.060326</td>\n",
       "      <td>-0.000433</td>\n",
       "      <td>-0.048624</td>\n",
       "      <td>NaN</td>\n",
       "      <td>-0.057870</td>\n",
       "      <td>0.004404</td>\n",
       "      <td>0.954716</td>\n",
       "      <td>0.028290</td>\n",
       "    </tr>\n",
       "    <tr>\n",
       "      <td>duration</td>\n",
       "      <td>-0.001855</td>\n",
       "      <td>-0.055642</td>\n",
       "      <td>0.003144</td>\n",
       "      <td>0.134440</td>\n",
       "      <td>1.000000</td>\n",
       "      <td>-0.094643</td>\n",
       "      <td>0.003804</td>\n",
       "      <td>-0.015184</td>\n",
       "      <td>NaN</td>\n",
       "      <td>-0.051296</td>\n",
       "      <td>0.002857</td>\n",
       "      <td>0.134553</td>\n",
       "      <td>0.001620</td>\n",
       "    </tr>\n",
       "    <tr>\n",
       "      <td>campaign</td>\n",
       "      <td>-0.007897</td>\n",
       "      <td>0.037633</td>\n",
       "      <td>-0.001229</td>\n",
       "      <td>-0.060326</td>\n",
       "      <td>-0.094643</td>\n",
       "      <td>1.000000</td>\n",
       "      <td>-0.003626</td>\n",
       "      <td>-0.038244</td>\n",
       "      <td>NaN</td>\n",
       "      <td>0.039260</td>\n",
       "      <td>-0.000244</td>\n",
       "      <td>-0.067927</td>\n",
       "      <td>-0.015424</td>\n",
       "    </tr>\n",
       "    <tr>\n",
       "      <td>pdays</td>\n",
       "      <td>0.001370</td>\n",
       "      <td>0.008550</td>\n",
       "      <td>0.003018</td>\n",
       "      <td>-0.000433</td>\n",
       "      <td>0.003804</td>\n",
       "      <td>-0.003626</td>\n",
       "      <td>1.000000</td>\n",
       "      <td>0.002186</td>\n",
       "      <td>NaN</td>\n",
       "      <td>0.003172</td>\n",
       "      <td>0.001001</td>\n",
       "      <td>0.000931</td>\n",
       "      <td>0.005123</td>\n",
       "    </tr>\n",
       "    <tr>\n",
       "      <td>previous</td>\n",
       "      <td>-0.003045</td>\n",
       "      <td>0.037545</td>\n",
       "      <td>0.009717</td>\n",
       "      <td>-0.048624</td>\n",
       "      <td>-0.015184</td>\n",
       "      <td>-0.038244</td>\n",
       "      <td>0.002186</td>\n",
       "      <td>1.000000</td>\n",
       "      <td>NaN</td>\n",
       "      <td>0.048722</td>\n",
       "      <td>0.002057</td>\n",
       "      <td>-0.043864</td>\n",
       "      <td>0.099889</td>\n",
       "    </tr>\n",
       "    <tr>\n",
       "      <td>y</td>\n",
       "      <td>NaN</td>\n",
       "      <td>NaN</td>\n",
       "      <td>NaN</td>\n",
       "      <td>NaN</td>\n",
       "      <td>NaN</td>\n",
       "      <td>NaN</td>\n",
       "      <td>NaN</td>\n",
       "      <td>NaN</td>\n",
       "      <td>NaN</td>\n",
       "      <td>NaN</td>\n",
       "      <td>NaN</td>\n",
       "      <td>NaN</td>\n",
       "      <td>NaN</td>\n",
       "    </tr>\n",
       "    <tr>\n",
       "      <td>age_range</td>\n",
       "      <td>0.010516</td>\n",
       "      <td>0.931981</td>\n",
       "      <td>0.000643</td>\n",
       "      <td>-0.057870</td>\n",
       "      <td>-0.051296</td>\n",
       "      <td>0.039260</td>\n",
       "      <td>0.003172</td>\n",
       "      <td>0.048722</td>\n",
       "      <td>NaN</td>\n",
       "      <td>1.000000</td>\n",
       "      <td>-0.002130</td>\n",
       "      <td>-0.062420</td>\n",
       "      <td>0.047835</td>\n",
       "    </tr>\n",
       "    <tr>\n",
       "      <td>balance_range</td>\n",
       "      <td>0.005292</td>\n",
       "      <td>-0.005029</td>\n",
       "      <td>0.464260</td>\n",
       "      <td>0.004404</td>\n",
       "      <td>0.002857</td>\n",
       "      <td>-0.000244</td>\n",
       "      <td>0.001001</td>\n",
       "      <td>0.002057</td>\n",
       "      <td>NaN</td>\n",
       "      <td>-0.002130</td>\n",
       "      <td>1.000000</td>\n",
       "      <td>0.004309</td>\n",
       "      <td>-0.004653</td>\n",
       "    </tr>\n",
       "    <tr>\n",
       "      <td>day_range</td>\n",
       "      <td>-0.003861</td>\n",
       "      <td>-0.062390</td>\n",
       "      <td>0.005925</td>\n",
       "      <td>0.954716</td>\n",
       "      <td>0.134553</td>\n",
       "      <td>-0.067927</td>\n",
       "      <td>0.000931</td>\n",
       "      <td>-0.043864</td>\n",
       "      <td>NaN</td>\n",
       "      <td>-0.062420</td>\n",
       "      <td>0.004309</td>\n",
       "      <td>1.000000</td>\n",
       "      <td>0.015307</td>\n",
       "    </tr>\n",
       "    <tr>\n",
       "      <td>month_BME</td>\n",
       "      <td>0.008151</td>\n",
       "      <td>0.040485</td>\n",
       "      <td>-0.002172</td>\n",
       "      <td>0.028290</td>\n",
       "      <td>0.001620</td>\n",
       "      <td>-0.015424</td>\n",
       "      <td>0.005123</td>\n",
       "      <td>0.099889</td>\n",
       "      <td>NaN</td>\n",
       "      <td>0.047835</td>\n",
       "      <td>-0.004653</td>\n",
       "      <td>0.015307</td>\n",
       "      <td>1.000000</td>\n",
       "    </tr>\n",
       "  </tbody>\n",
       "</table>\n",
       "</div>"
      ],
      "text/plain": [
       "                     id       age   balance       day  duration  campaign  \\\n",
       "id             1.000000  0.008676  0.002334 -0.001724 -0.001855 -0.007897   \n",
       "age            0.008676  1.000000 -0.001185 -0.059669 -0.055642  0.037633   \n",
       "balance        0.002334 -0.001185  1.000000  0.003816  0.003144 -0.001229   \n",
       "day           -0.001724 -0.059669  0.003816  1.000000  0.134440 -0.060326   \n",
       "duration      -0.001855 -0.055642  0.003144  0.134440  1.000000 -0.094643   \n",
       "campaign      -0.007897  0.037633 -0.001229 -0.060326 -0.094643  1.000000   \n",
       "pdays          0.001370  0.008550  0.003018 -0.000433  0.003804 -0.003626   \n",
       "previous      -0.003045  0.037545  0.009717 -0.048624 -0.015184 -0.038244   \n",
       "y                   NaN       NaN       NaN       NaN       NaN       NaN   \n",
       "age_range      0.010516  0.931981  0.000643 -0.057870 -0.051296  0.039260   \n",
       "balance_range  0.005292 -0.005029  0.464260  0.004404  0.002857 -0.000244   \n",
       "day_range     -0.003861 -0.062390  0.005925  0.954716  0.134553 -0.067927   \n",
       "month_BME      0.008151  0.040485 -0.002172  0.028290  0.001620 -0.015424   \n",
       "\n",
       "                  pdays  previous   y  age_range  balance_range  day_range  \\\n",
       "id             0.001370 -0.003045 NaN   0.010516       0.005292  -0.003861   \n",
       "age            0.008550  0.037545 NaN   0.931981      -0.005029  -0.062390   \n",
       "balance        0.003018  0.009717 NaN   0.000643       0.464260   0.005925   \n",
       "day           -0.000433 -0.048624 NaN  -0.057870       0.004404   0.954716   \n",
       "duration       0.003804 -0.015184 NaN  -0.051296       0.002857   0.134553   \n",
       "campaign      -0.003626 -0.038244 NaN   0.039260      -0.000244  -0.067927   \n",
       "pdays          1.000000  0.002186 NaN   0.003172       0.001001   0.000931   \n",
       "previous       0.002186  1.000000 NaN   0.048722       0.002057  -0.043864   \n",
       "y                   NaN       NaN NaN        NaN            NaN        NaN   \n",
       "age_range      0.003172  0.048722 NaN   1.000000      -0.002130  -0.062420   \n",
       "balance_range  0.001001  0.002057 NaN  -0.002130       1.000000   0.004309   \n",
       "day_range      0.000931 -0.043864 NaN  -0.062420       0.004309   1.000000   \n",
       "month_BME      0.005123  0.099889 NaN   0.047835      -0.004653   0.015307   \n",
       "\n",
       "               month_BME  \n",
       "id              0.008151  \n",
       "age             0.040485  \n",
       "balance        -0.002172  \n",
       "day             0.028290  \n",
       "duration        0.001620  \n",
       "campaign       -0.015424  \n",
       "pdays           0.005123  \n",
       "previous        0.099889  \n",
       "y                    NaN  \n",
       "age_range       0.047835  \n",
       "balance_range  -0.004653  \n",
       "day_range       0.015307  \n",
       "month_BME       1.000000  "
      ]
     },
     "execution_count": 43,
     "metadata": {},
     "output_type": "execute_result"
    }
   ],
   "source": [
    "train.corr()"
   ]
  },
  {
   "cell_type": "code",
   "execution_count": 44,
   "metadata": {},
   "outputs": [],
   "source": [
    "corr_train = train.corr()"
   ]
  },
  {
   "cell_type": "code",
   "execution_count": 45,
   "metadata": {},
   "outputs": [
    {
     "data": {
      "text/plain": [
       "Index(['id', 'age', 'job', 'marital', 'education', 'default', 'balance',\n",
       "       'housing', 'loan', 'contact', 'day', 'month', 'duration', 'campaign',\n",
       "       'pdays', 'previous', 'poutcome', 'y', 'age_range', 'balance_range',\n",
       "       'day_range', 'month_BME'],\n",
       "      dtype='object')"
      ]
     },
     "execution_count": 45,
     "metadata": {},
     "output_type": "execute_result"
    }
   ],
   "source": [
    "train.columns"
   ]
  },
  {
   "cell_type": "code",
   "execution_count": 46,
   "metadata": {},
   "outputs": [
    {
     "name": "stdout",
     "output_type": "stream",
     "text": [
      "                y\n",
      "id            NaN\n",
      "age           NaN\n",
      "job           NaN\n",
      "marital       NaN\n",
      "education     NaN\n",
      "default       NaN\n",
      "balance       NaN\n",
      "housing       NaN\n",
      "loan          NaN\n",
      "contact       NaN\n",
      "day           NaN\n",
      "month         NaN\n",
      "duration      NaN\n",
      "campaign      NaN\n",
      "pdays         NaN\n",
      "previous      NaN\n",
      "poutcome      NaN\n",
      "y             NaN\n",
      "age_range     NaN\n",
      "balance_range NaN\n",
      "day_range     NaN\n",
      "month_BME     NaN\n"
     ]
    }
   ],
   "source": [
    "corr_y = pd.DataFrame(data = corr_train[\"y\"], index=train.columns)\n",
    "print(corr_y)"
   ]
  },
  {
   "cell_type": "code",
   "execution_count": 47,
   "metadata": {},
   "outputs": [
    {
     "name": "stdout",
     "output_type": "stream",
     "text": [
      "                y\n",
      "id            NaN\n",
      "age           NaN\n",
      "job           NaN\n",
      "marital       NaN\n",
      "education     NaN\n",
      "default       NaN\n",
      "balance       NaN\n",
      "housing       NaN\n",
      "loan          NaN\n",
      "contact       NaN\n",
      "day           NaN\n",
      "month         NaN\n",
      "duration      NaN\n",
      "campaign      NaN\n",
      "pdays         NaN\n",
      "previous      NaN\n",
      "poutcome      NaN\n",
      "y             NaN\n",
      "age_range     NaN\n",
      "balance_range NaN\n",
      "day_range     NaN\n",
      "month_BME     NaN\n"
     ]
    }
   ],
   "source": [
    "corr_train_le = train_le.corr() \n",
    "corr_le_y = pd.DataFrame(index = train_le.columns, data = corr_train_le[\"y\"])\n",
    "print(corr_le_y)"
   ]
  },
  {
   "cell_type": "code",
   "execution_count": 49,
   "metadata": {},
   "outputs": [
    {
     "ename": "KeyError",
     "evalue": "\"['id' 'age' 'balance' 'day' 'month' 'campaign' 'previous'] not found in axis\"",
     "output_type": "error",
     "traceback": [
      "\u001b[0;31m---------------------------------------------------------------------------\u001b[0m",
      "\u001b[0;31mKeyError\u001b[0m                                  Traceback (most recent call last)",
      "\u001b[0;32m<ipython-input-49-3ffd4af14711>\u001b[0m in \u001b[0;36m<module>\u001b[0;34m\u001b[0m\n\u001b[0;32m----> 1\u001b[0;31m \u001b[0mtrain_le2\u001b[0m \u001b[0;34m=\u001b[0m \u001b[0mtrain_le\u001b[0m\u001b[0;34m.\u001b[0m\u001b[0mdrop\u001b[0m\u001b[0;34m(\u001b[0m\u001b[0;34m[\u001b[0m\u001b[0;34m\"id\"\u001b[0m\u001b[0;34m,\u001b[0m \u001b[0;34m\"age\"\u001b[0m\u001b[0;34m,\u001b[0m \u001b[0;34m\"balance\"\u001b[0m\u001b[0;34m,\u001b[0m \u001b[0;34m\"day\"\u001b[0m\u001b[0;34m,\u001b[0m \u001b[0;34m\"month\"\u001b[0m\u001b[0;34m,\u001b[0m \u001b[0;34m\"campaign\"\u001b[0m\u001b[0;34m,\u001b[0m \u001b[0;34m\"previous\"\u001b[0m\u001b[0;34m]\u001b[0m\u001b[0;34m,\u001b[0m \u001b[0maxis\u001b[0m\u001b[0;34m=\u001b[0m\u001b[0;36m1\u001b[0m\u001b[0;34m)\u001b[0m\u001b[0;34m\u001b[0m\u001b[0;34m\u001b[0m\u001b[0m\n\u001b[0m\u001b[1;32m      2\u001b[0m \u001b[0mprint\u001b[0m\u001b[0;34m(\u001b[0m\u001b[0mtrain_le2\u001b[0m\u001b[0;34m.\u001b[0m\u001b[0mcolumns\u001b[0m\u001b[0;34m)\u001b[0m\u001b[0;34m\u001b[0m\u001b[0;34m\u001b[0m\u001b[0m\n\u001b[1;32m      3\u001b[0m \u001b[0mtest_le2\u001b[0m \u001b[0;34m=\u001b[0m \u001b[0mtest_le\u001b[0m\u001b[0;34m.\u001b[0m\u001b[0mdrop\u001b[0m\u001b[0;34m(\u001b[0m\u001b[0;34m[\u001b[0m\u001b[0;34m\"id\"\u001b[0m\u001b[0;34m,\u001b[0m\u001b[0;34m\"age\"\u001b[0m\u001b[0;34m,\u001b[0m\u001b[0;34m\"balance\"\u001b[0m\u001b[0;34m,\u001b[0m\u001b[0;34m\"day\"\u001b[0m\u001b[0;34m,\u001b[0m\u001b[0;34m\"month\"\u001b[0m\u001b[0;34m,\u001b[0m\u001b[0;34m\"campaign\"\u001b[0m\u001b[0;34m,\u001b[0m\u001b[0;34m\"previous\"\u001b[0m\u001b[0;34m]\u001b[0m\u001b[0;34m,\u001b[0m\u001b[0maxis\u001b[0m\u001b[0;34m=\u001b[0m\u001b[0;36m1\u001b[0m\u001b[0;34m)\u001b[0m\u001b[0;34m\u001b[0m\u001b[0;34m\u001b[0m\u001b[0m\n\u001b[1;32m      4\u001b[0m \u001b[0mprint\u001b[0m\u001b[0;34m(\u001b[0m\u001b[0mtest_le2\u001b[0m\u001b[0;34m.\u001b[0m\u001b[0mcolumns\u001b[0m\u001b[0;34m)\u001b[0m\u001b[0;34m\u001b[0m\u001b[0;34m\u001b[0m\u001b[0m\n",
      "\u001b[0;32m/opt/anaconda3/lib/python3.7/site-packages/pandas/core/frame.py\u001b[0m in \u001b[0;36mdrop\u001b[0;34m(self, labels, axis, index, columns, level, inplace, errors)\u001b[0m\n\u001b[1;32m   4100\u001b[0m             \u001b[0mlevel\u001b[0m\u001b[0;34m=\u001b[0m\u001b[0mlevel\u001b[0m\u001b[0;34m,\u001b[0m\u001b[0;34m\u001b[0m\u001b[0;34m\u001b[0m\u001b[0m\n\u001b[1;32m   4101\u001b[0m             \u001b[0minplace\u001b[0m\u001b[0;34m=\u001b[0m\u001b[0minplace\u001b[0m\u001b[0;34m,\u001b[0m\u001b[0;34m\u001b[0m\u001b[0;34m\u001b[0m\u001b[0m\n\u001b[0;32m-> 4102\u001b[0;31m             \u001b[0merrors\u001b[0m\u001b[0;34m=\u001b[0m\u001b[0merrors\u001b[0m\u001b[0;34m,\u001b[0m\u001b[0;34m\u001b[0m\u001b[0;34m\u001b[0m\u001b[0m\n\u001b[0m\u001b[1;32m   4103\u001b[0m         )\n\u001b[1;32m   4104\u001b[0m \u001b[0;34m\u001b[0m\u001b[0m\n",
      "\u001b[0;32m/opt/anaconda3/lib/python3.7/site-packages/pandas/core/generic.py\u001b[0m in \u001b[0;36mdrop\u001b[0;34m(self, labels, axis, index, columns, level, inplace, errors)\u001b[0m\n\u001b[1;32m   3912\u001b[0m         \u001b[0;32mfor\u001b[0m \u001b[0maxis\u001b[0m\u001b[0;34m,\u001b[0m \u001b[0mlabels\u001b[0m \u001b[0;32min\u001b[0m \u001b[0maxes\u001b[0m\u001b[0;34m.\u001b[0m\u001b[0mitems\u001b[0m\u001b[0;34m(\u001b[0m\u001b[0;34m)\u001b[0m\u001b[0;34m:\u001b[0m\u001b[0;34m\u001b[0m\u001b[0;34m\u001b[0m\u001b[0m\n\u001b[1;32m   3913\u001b[0m             \u001b[0;32mif\u001b[0m \u001b[0mlabels\u001b[0m \u001b[0;32mis\u001b[0m \u001b[0;32mnot\u001b[0m \u001b[0;32mNone\u001b[0m\u001b[0;34m:\u001b[0m\u001b[0;34m\u001b[0m\u001b[0;34m\u001b[0m\u001b[0m\n\u001b[0;32m-> 3914\u001b[0;31m                 \u001b[0mobj\u001b[0m \u001b[0;34m=\u001b[0m \u001b[0mobj\u001b[0m\u001b[0;34m.\u001b[0m\u001b[0m_drop_axis\u001b[0m\u001b[0;34m(\u001b[0m\u001b[0mlabels\u001b[0m\u001b[0;34m,\u001b[0m \u001b[0maxis\u001b[0m\u001b[0;34m,\u001b[0m \u001b[0mlevel\u001b[0m\u001b[0;34m=\u001b[0m\u001b[0mlevel\u001b[0m\u001b[0;34m,\u001b[0m \u001b[0merrors\u001b[0m\u001b[0;34m=\u001b[0m\u001b[0merrors\u001b[0m\u001b[0;34m)\u001b[0m\u001b[0;34m\u001b[0m\u001b[0;34m\u001b[0m\u001b[0m\n\u001b[0m\u001b[1;32m   3915\u001b[0m \u001b[0;34m\u001b[0m\u001b[0m\n\u001b[1;32m   3916\u001b[0m         \u001b[0;32mif\u001b[0m \u001b[0minplace\u001b[0m\u001b[0;34m:\u001b[0m\u001b[0;34m\u001b[0m\u001b[0;34m\u001b[0m\u001b[0m\n",
      "\u001b[0;32m/opt/anaconda3/lib/python3.7/site-packages/pandas/core/generic.py\u001b[0m in \u001b[0;36m_drop_axis\u001b[0;34m(self, labels, axis, level, errors)\u001b[0m\n\u001b[1;32m   3944\u001b[0m                 \u001b[0mnew_axis\u001b[0m \u001b[0;34m=\u001b[0m \u001b[0maxis\u001b[0m\u001b[0;34m.\u001b[0m\u001b[0mdrop\u001b[0m\u001b[0;34m(\u001b[0m\u001b[0mlabels\u001b[0m\u001b[0;34m,\u001b[0m \u001b[0mlevel\u001b[0m\u001b[0;34m=\u001b[0m\u001b[0mlevel\u001b[0m\u001b[0;34m,\u001b[0m \u001b[0merrors\u001b[0m\u001b[0;34m=\u001b[0m\u001b[0merrors\u001b[0m\u001b[0;34m)\u001b[0m\u001b[0;34m\u001b[0m\u001b[0;34m\u001b[0m\u001b[0m\n\u001b[1;32m   3945\u001b[0m             \u001b[0;32melse\u001b[0m\u001b[0;34m:\u001b[0m\u001b[0;34m\u001b[0m\u001b[0;34m\u001b[0m\u001b[0m\n\u001b[0;32m-> 3946\u001b[0;31m                 \u001b[0mnew_axis\u001b[0m \u001b[0;34m=\u001b[0m \u001b[0maxis\u001b[0m\u001b[0;34m.\u001b[0m\u001b[0mdrop\u001b[0m\u001b[0;34m(\u001b[0m\u001b[0mlabels\u001b[0m\u001b[0;34m,\u001b[0m \u001b[0merrors\u001b[0m\u001b[0;34m=\u001b[0m\u001b[0merrors\u001b[0m\u001b[0;34m)\u001b[0m\u001b[0;34m\u001b[0m\u001b[0;34m\u001b[0m\u001b[0m\n\u001b[0m\u001b[1;32m   3947\u001b[0m             \u001b[0mresult\u001b[0m \u001b[0;34m=\u001b[0m \u001b[0mself\u001b[0m\u001b[0;34m.\u001b[0m\u001b[0mreindex\u001b[0m\u001b[0;34m(\u001b[0m\u001b[0;34m**\u001b[0m\u001b[0;34m{\u001b[0m\u001b[0maxis_name\u001b[0m\u001b[0;34m:\u001b[0m \u001b[0mnew_axis\u001b[0m\u001b[0;34m}\u001b[0m\u001b[0;34m)\u001b[0m\u001b[0;34m\u001b[0m\u001b[0;34m\u001b[0m\u001b[0m\n\u001b[1;32m   3948\u001b[0m \u001b[0;34m\u001b[0m\u001b[0m\n",
      "\u001b[0;32m/opt/anaconda3/lib/python3.7/site-packages/pandas/core/indexes/base.py\u001b[0m in \u001b[0;36mdrop\u001b[0;34m(self, labels, errors)\u001b[0m\n\u001b[1;32m   5338\u001b[0m         \u001b[0;32mif\u001b[0m \u001b[0mmask\u001b[0m\u001b[0;34m.\u001b[0m\u001b[0many\u001b[0m\u001b[0;34m(\u001b[0m\u001b[0;34m)\u001b[0m\u001b[0;34m:\u001b[0m\u001b[0;34m\u001b[0m\u001b[0;34m\u001b[0m\u001b[0m\n\u001b[1;32m   5339\u001b[0m             \u001b[0;32mif\u001b[0m \u001b[0merrors\u001b[0m \u001b[0;34m!=\u001b[0m \u001b[0;34m\"ignore\"\u001b[0m\u001b[0;34m:\u001b[0m\u001b[0;34m\u001b[0m\u001b[0;34m\u001b[0m\u001b[0m\n\u001b[0;32m-> 5340\u001b[0;31m                 \u001b[0;32mraise\u001b[0m \u001b[0mKeyError\u001b[0m\u001b[0;34m(\u001b[0m\u001b[0;34m\"{} not found in axis\"\u001b[0m\u001b[0;34m.\u001b[0m\u001b[0mformat\u001b[0m\u001b[0;34m(\u001b[0m\u001b[0mlabels\u001b[0m\u001b[0;34m[\u001b[0m\u001b[0mmask\u001b[0m\u001b[0;34m]\u001b[0m\u001b[0;34m)\u001b[0m\u001b[0;34m)\u001b[0m\u001b[0;34m\u001b[0m\u001b[0;34m\u001b[0m\u001b[0m\n\u001b[0m\u001b[1;32m   5341\u001b[0m             \u001b[0mindexer\u001b[0m \u001b[0;34m=\u001b[0m \u001b[0mindexer\u001b[0m\u001b[0;34m[\u001b[0m\u001b[0;34m~\u001b[0m\u001b[0mmask\u001b[0m\u001b[0;34m]\u001b[0m\u001b[0;34m\u001b[0m\u001b[0;34m\u001b[0m\u001b[0m\n\u001b[1;32m   5342\u001b[0m         \u001b[0;32mreturn\u001b[0m \u001b[0mself\u001b[0m\u001b[0;34m.\u001b[0m\u001b[0mdelete\u001b[0m\u001b[0;34m(\u001b[0m\u001b[0mindexer\u001b[0m\u001b[0;34m)\u001b[0m\u001b[0;34m\u001b[0m\u001b[0;34m\u001b[0m\u001b[0m\n",
      "\u001b[0;31mKeyError\u001b[0m: \"['id' 'age' 'balance' 'day' 'month' 'campaign' 'previous'] not found in axis\""
     ]
    }
   ],
   "source": [
    "train_le2 = train_le.drop([\"id\", \"age\", \"balance\", \"day\", \"month\", \"campaign\", \"previous\"], axis=1)\n",
    "print(train_le2.columns)\n",
    "test_le2 = test_le.drop([\"id\",\"age\",\"balance\",\"day\",\"month\",\"campaign\",\"previous\"],axis=1)\n",
    "print(test_le2.columns)"
   ]
  },
  {
   "cell_type": "code",
   "execution_count": null,
   "metadata": {},
   "outputs": [],
   "source": []
  }
 ],
 "metadata": {
  "kernelspec": {
   "display_name": "Python 3",
   "language": "python",
   "name": "python3"
  },
  "language_info": {
   "codemirror_mode": {
    "name": "ipython",
    "version": 3
   },
   "file_extension": ".py",
   "mimetype": "text/x-python",
   "name": "python",
   "nbconvert_exporter": "python",
   "pygments_lexer": "ipython3",
   "version": "3.7.4"
  }
 },
 "nbformat": 4,
 "nbformat_minor": 4
}
