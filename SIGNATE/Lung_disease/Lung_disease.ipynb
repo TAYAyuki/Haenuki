{
 "cells": [
  {
   "cell_type": "code",
   "execution_count": 2,
   "metadata": {},
   "outputs": [],
   "source": [
    "import csv\n",
    "import pandas as pd\n",
    "import matplotlib.pyplot as plt\n",
    "import seaborn as sns"
   ]
  },
  {
   "cell_type": "code",
   "execution_count": 3,
   "metadata": {},
   "outputs": [
    {
     "data": {
      "text/plain": [
       "id          0\n",
       "Age         0\n",
       "Gender      0\n",
       "T_Bil       0\n",
       "D_Bil       0\n",
       "ALP         0\n",
       "ALT_GPT     0\n",
       "AST_GOT     0\n",
       "TP          0\n",
       "Alb         0\n",
       "AG_ratio    4\n",
       "disease     0\n",
       "dtype: int64"
      ]
     },
     "execution_count": 3,
     "metadata": {},
     "output_type": "execute_result"
    }
   ],
   "source": [
    "with open(\"train.csv\",\"r\") as f:\n",
    "    df = pd.read_csv(f)\n",
    "#欠損値の確認\n",
    "df.isnull().sum()"
   ]
  },
  {
   "cell_type": "code",
   "execution_count": 4,
   "metadata": {},
   "outputs": [
    {
     "data": {
      "text/plain": [
       "id          0\n",
       "Age         0\n",
       "Gender      0\n",
       "T_Bil       0\n",
       "D_Bil       0\n",
       "ALP         0\n",
       "ALT_GPT     0\n",
       "AST_GOT     0\n",
       "TP          0\n",
       "Alb         0\n",
       "AG_ratio    4\n",
       "disease     0\n",
       "dtype: int64"
      ]
     },
     "execution_count": 4,
     "metadata": {},
     "output_type": "execute_result"
    }
   ],
   "source": [
    "with open(\"test.csv\",\"r\") as f:\n",
    "    df_test = pd.read_csv(f)\n",
    "#欠損値の確認\n",
    "df.isnull().sum()"
   ]
  },
  {
   "cell_type": "markdown",
   "metadata": {},
   "source": [
    "id：(int)ID  \n",
    "Age：(int)年齢  \n",
    "Gender：(char)性別  \n",
    "T_Bil：(float)総ビリルビン  \n",
    "D_Bil:(float)直接ビリルビン  \n",
    "ALP:(float)アルカリフォスファター ゼ  \n",
    "ALT_GPT:(float)アラニンアミノトランスフェラーゼ        \n",
    "AST_GOT:(float)アスパラギン酸アミノトランスフェラーゼ         \n",
    "TP:(float)総タンパク   \n",
    "Alb:(float)アルブミン           \n",
    "AG_ratio:(float)アルブミン/グロブリン比       \n",
    "disease:(int)肝疾患の有無（0:無, 1:有）   "
   ]
  },
  {
   "cell_type": "markdown",
   "metadata": {},
   "source": [
    "欠損の補完方法  \n",
    "平均値・中央値・最頻値・予測値"
   ]
  },
  {
   "cell_type": "code",
   "execution_count": 5,
   "metadata": {},
   "outputs": [
    {
     "data": {
      "text/html": [
       "<div>\n",
       "<style scoped>\n",
       "    .dataframe tbody tr th:only-of-type {\n",
       "        vertical-align: middle;\n",
       "    }\n",
       "\n",
       "    .dataframe tbody tr th {\n",
       "        vertical-align: top;\n",
       "    }\n",
       "\n",
       "    .dataframe thead th {\n",
       "        text-align: right;\n",
       "    }\n",
       "</style>\n",
       "<table border=\"1\" class=\"dataframe\">\n",
       "  <thead>\n",
       "    <tr style=\"text-align: right;\">\n",
       "      <th></th>\n",
       "      <th>id</th>\n",
       "      <th>Age</th>\n",
       "      <th>Gender</th>\n",
       "      <th>T_Bil</th>\n",
       "      <th>D_Bil</th>\n",
       "      <th>ALP</th>\n",
       "      <th>ALT_GPT</th>\n",
       "      <th>AST_GOT</th>\n",
       "      <th>TP</th>\n",
       "      <th>Alb</th>\n",
       "      <th>AG_ratio</th>\n",
       "      <th>disease</th>\n",
       "    </tr>\n",
       "  </thead>\n",
       "  <tbody>\n",
       "    <tr>\n",
       "      <th>0</th>\n",
       "      <td>0</td>\n",
       "      <td>60</td>\n",
       "      <td>Male</td>\n",
       "      <td>2.9</td>\n",
       "      <td>1.3</td>\n",
       "      <td>170.9</td>\n",
       "      <td>42.1</td>\n",
       "      <td>37.1</td>\n",
       "      <td>5.5</td>\n",
       "      <td>2.9</td>\n",
       "      <td>1.01</td>\n",
       "      <td>1</td>\n",
       "    </tr>\n",
       "    <tr>\n",
       "      <th>1</th>\n",
       "      <td>1</td>\n",
       "      <td>28</td>\n",
       "      <td>Female</td>\n",
       "      <td>0.7</td>\n",
       "      <td>0.1</td>\n",
       "      <td>158.8</td>\n",
       "      <td>26.0</td>\n",
       "      <td>23.9</td>\n",
       "      <td>6.4</td>\n",
       "      <td>3.7</td>\n",
       "      <td>1.36</td>\n",
       "      <td>0</td>\n",
       "    </tr>\n",
       "    <tr>\n",
       "      <th>2</th>\n",
       "      <td>2</td>\n",
       "      <td>60</td>\n",
       "      <td>Male</td>\n",
       "      <td>23.1</td>\n",
       "      <td>12.5</td>\n",
       "      <td>962.0</td>\n",
       "      <td>53.0</td>\n",
       "      <td>40.9</td>\n",
       "      <td>6.8</td>\n",
       "      <td>3.3</td>\n",
       "      <td>0.96</td>\n",
       "      <td>1</td>\n",
       "    </tr>\n",
       "    <tr>\n",
       "      <th>3</th>\n",
       "      <td>3</td>\n",
       "      <td>20</td>\n",
       "      <td>Male</td>\n",
       "      <td>1.0</td>\n",
       "      <td>0.5</td>\n",
       "      <td>415.9</td>\n",
       "      <td>33.9</td>\n",
       "      <td>39.0</td>\n",
       "      <td>7.0</td>\n",
       "      <td>3.8</td>\n",
       "      <td>1.31</td>\n",
       "      <td>0</td>\n",
       "    </tr>\n",
       "    <tr>\n",
       "      <th>4</th>\n",
       "      <td>4</td>\n",
       "      <td>44</td>\n",
       "      <td>Female</td>\n",
       "      <td>0.6</td>\n",
       "      <td>0.3</td>\n",
       "      <td>152.9</td>\n",
       "      <td>40.9</td>\n",
       "      <td>42.0</td>\n",
       "      <td>4.5</td>\n",
       "      <td>2.1</td>\n",
       "      <td>1.04</td>\n",
       "      <td>0</td>\n",
       "    </tr>\n",
       "  </tbody>\n",
       "</table>\n",
       "</div>"
      ],
      "text/plain": [
       "   id  Age  Gender  T_Bil  D_Bil    ALP  ALT_GPT  AST_GOT   TP  Alb  AG_ratio  \\\n",
       "0   0   60    Male    2.9    1.3  170.9     42.1     37.1  5.5  2.9      1.01   \n",
       "1   1   28  Female    0.7    0.1  158.8     26.0     23.9  6.4  3.7      1.36   \n",
       "2   2   60    Male   23.1   12.5  962.0     53.0     40.9  6.8  3.3      0.96   \n",
       "3   3   20    Male    1.0    0.5  415.9     33.9     39.0  7.0  3.8      1.31   \n",
       "4   4   44  Female    0.6    0.3  152.9     40.9     42.0  4.5  2.1      1.04   \n",
       "\n",
       "   disease  \n",
       "0        1  \n",
       "1        0  \n",
       "2        1  \n",
       "3        0  \n",
       "4        0  "
      ]
     },
     "execution_count": 5,
     "metadata": {},
     "output_type": "execute_result"
    }
   ],
   "source": [
    "df.head()"
   ]
  },
  {
   "cell_type": "code",
   "execution_count": 6,
   "metadata": {},
   "outputs": [
    {
     "data": {
      "text/plain": [
       "0.9978579481397972"
      ]
     },
     "execution_count": 6,
     "metadata": {},
     "output_type": "execute_result"
    }
   ],
   "source": [
    "df.AG_ratio.mean()\n",
    "#df.AG_ratio.median()\n",
    "#df.AG_ratio.mode()\n",
    "#df.AG_ratio.hist(bins = 100)\n",
    "#df.describe()"
   ]
  },
  {
   "cell_type": "code",
   "execution_count": 7,
   "metadata": {},
   "outputs": [],
   "source": [
    "#欠損データを列AG_ratioの平均値で補完\n",
    "train_data = df.fillna(1.00)"
   ]
  },
  {
   "cell_type": "code",
   "execution_count": 8,
   "metadata": {},
   "outputs": [
    {
     "data": {
      "text/plain": [
       "id          0\n",
       "Age         0\n",
       "Gender      0\n",
       "T_Bil       0\n",
       "D_Bil       0\n",
       "ALP         0\n",
       "ALT_GPT     0\n",
       "AST_GOT     0\n",
       "TP          0\n",
       "Alb         0\n",
       "AG_ratio    0\n",
       "disease     0\n",
       "dtype: int64"
      ]
     },
     "execution_count": 8,
     "metadata": {},
     "output_type": "execute_result"
    }
   ],
   "source": [
    "train_data.isnull().sum()"
   ]
  },
  {
   "cell_type": "code",
   "execution_count": 9,
   "metadata": {},
   "outputs": [],
   "source": [
    "#文字列を値に置き換える\n",
    "train_data = train_data.replace(\"Male\", 1)\n",
    "train_data = train_data.replace(\"Female\", 0)"
   ]
  },
  {
   "cell_type": "code",
   "execution_count": 10,
   "metadata": {},
   "outputs": [
    {
     "data": {
      "text/plain": [
       "<matplotlib.axes._subplots.AxesSubplot at 0x1a1f070dd8>"
      ]
     },
     "execution_count": 10,
     "metadata": {},
     "output_type": "execute_result"
    },
    {
     "data": {
      "image/png": "[encoded data removed]",
      "text/plain": [
       "<Figure size 720x720 with 2 Axes>"
      ]
     },
     "metadata": {
      "needs_background": "light"
     },
     "output_type": "display_data"
    }
   ],
   "source": [
    "plt.figure(figsize=(10, 10))\n",
    "sns.heatmap(train_data.corr(), square=True, annot=True, fmt=\".2f\", cmap =\"Reds\")"
   ]
  },
  {
   "cell_type": "code",
   "execution_count": 44,
   "metadata": {},
   "outputs": [],
   "source": [
    "from sklearn.model_selection import train_test_split\n",
    "train, test = train_test_split(train_data, test_size=0.1)"
   ]
  },
  {
   "cell_type": "code",
   "execution_count": 45,
   "metadata": {},
   "outputs": [
    {
     "data": {
      "text/html": [
       "<div>\n",
       "<style scoped>\n",
       "    .dataframe tbody tr th:only-of-type {\n",
       "        vertical-align: middle;\n",
       "    }\n",
       "\n",
       "    .dataframe tbody tr th {\n",
       "        vertical-align: top;\n",
       "    }\n",
       "\n",
       "    .dataframe thead th {\n",
       "        text-align: right;\n",
       "    }\n",
       "</style>\n",
       "<table border=\"1\" class=\"dataframe\">\n",
       "  <thead>\n",
       "    <tr style=\"text-align: right;\">\n",
       "      <th></th>\n",
       "      <th>Age</th>\n",
       "      <th>Gender</th>\n",
       "      <th>T_Bil</th>\n",
       "      <th>D_Bil</th>\n",
       "      <th>ALP</th>\n",
       "      <th>ALT_GPT</th>\n",
       "      <th>AST_GOT</th>\n",
       "      <th>TP</th>\n",
       "      <th>Alb</th>\n",
       "      <th>AG_ratio</th>\n",
       "    </tr>\n",
       "  </thead>\n",
       "  <tbody>\n",
       "    <tr>\n",
       "      <th>606</th>\n",
       "      <td>45</td>\n",
       "      <td>1</td>\n",
       "      <td>1.2</td>\n",
       "      <td>0.1</td>\n",
       "      <td>245.2</td>\n",
       "      <td>21.8</td>\n",
       "      <td>24.1</td>\n",
       "      <td>7.0</td>\n",
       "      <td>3.4</td>\n",
       "      <td>1.08</td>\n",
       "    </tr>\n",
       "    <tr>\n",
       "      <th>428</th>\n",
       "      <td>48</td>\n",
       "      <td>0</td>\n",
       "      <td>1.0</td>\n",
       "      <td>0.1</td>\n",
       "      <td>174.8</td>\n",
       "      <td>23.9</td>\n",
       "      <td>53.9</td>\n",
       "      <td>5.4</td>\n",
       "      <td>2.7</td>\n",
       "      <td>0.91</td>\n",
       "    </tr>\n",
       "    <tr>\n",
       "      <th>102</th>\n",
       "      <td>22</td>\n",
       "      <td>1</td>\n",
       "      <td>0.9</td>\n",
       "      <td>0.4</td>\n",
       "      <td>179.0</td>\n",
       "      <td>17.9</td>\n",
       "      <td>21.0</td>\n",
       "      <td>6.6</td>\n",
       "      <td>3.6</td>\n",
       "      <td>1.17</td>\n",
       "    </tr>\n",
       "    <tr>\n",
       "      <th>277</th>\n",
       "      <td>34</td>\n",
       "      <td>1</td>\n",
       "      <td>2.0</td>\n",
       "      <td>1.1</td>\n",
       "      <td>226.0</td>\n",
       "      <td>32.9</td>\n",
       "      <td>135.0</td>\n",
       "      <td>6.2</td>\n",
       "      <td>2.7</td>\n",
       "      <td>0.82</td>\n",
       "    </tr>\n",
       "    <tr>\n",
       "      <th>869</th>\n",
       "      <td>36</td>\n",
       "      <td>1</td>\n",
       "      <td>3.2</td>\n",
       "      <td>1.5</td>\n",
       "      <td>305.1</td>\n",
       "      <td>28.0</td>\n",
       "      <td>75.9</td>\n",
       "      <td>5.9</td>\n",
       "      <td>2.4</td>\n",
       "      <td>0.70</td>\n",
       "    </tr>\n",
       "  </tbody>\n",
       "</table>\n",
       "</div>"
      ],
      "text/plain": [
       "     Age  Gender  T_Bil  D_Bil    ALP  ALT_GPT  AST_GOT   TP  Alb  AG_ratio\n",
       "606   45       1    1.2    0.1  245.2     21.8     24.1  7.0  3.4      1.08\n",
       "428   48       0    1.0    0.1  174.8     23.9     53.9  5.4  2.7      0.91\n",
       "102   22       1    0.9    0.4  179.0     17.9     21.0  6.6  3.6      1.17\n",
       "277   34       1    2.0    1.1  226.0     32.9    135.0  6.2  2.7      0.82\n",
       "869   36       1    3.2    1.5  305.1     28.0     75.9  5.9  2.4      0.70"
      ]
     },
     "execution_count": 45,
     "metadata": {},
     "output_type": "execute_result"
    }
   ],
   "source": [
    "# IDは使わない\n",
    "train_X = train.iloc[:,1:-1]\n",
    "train_y = train[\"disease\"]\n",
    "test_X = test.iloc[:,1:-1]\n",
    "test_y = test[\"disease\"]\n",
    "train_X.head()"
   ]
  },
  {
   "cell_type": "markdown",
   "metadata": {},
   "source": [
    "# RandomForest"
   ]
  },
  {
   "cell_type": "code",
   "execution_count": 46,
   "metadata": {},
   "outputs": [
    {
     "name": "stdout",
     "output_type": "stream",
     "text": [
      "[0.08742048 0.01419747 0.20834221 0.09406393 0.15813313 0.1037579\n",
      " 0.15611605 0.05539339 0.0535817  0.06899375]\n"
     ]
    },
    {
     "name": "stderr",
     "output_type": "stream",
     "text": [
      "/anaconda3/lib/python3.7/site-packages/sklearn/ensemble/forest.py:246: FutureWarning: The default value of n_estimators will change from 10 in version 0.20 to 100 in 0.22.\n",
      "  \"10 in version 0.20 to 100 in 0.22.\", FutureWarning)\n"
     ]
    }
   ],
   "source": [
    "from sklearn.ensemble import RandomForestClassifier\n",
    "clf = RandomForestClassifier(max_depth=23, random_state=5)\n",
    "clf.fit(train_X, train_y)\n",
    "#print(clf.feature_importances_)\n",
    "clf.score(train_X, train_y)"
   ]
  },
  {
   "cell_type": "code",
   "execution_count": 47,
   "metadata": {},
   "outputs": [
    {
     "data": {
      "text/plain": [
       "0.9222222222222223"
      ]
     },
     "execution_count": 47,
     "metadata": {},
     "output_type": "execute_result"
    }
   ],
   "source": [
    "clf.score(test_X, test_y)"
   ]
  },
  {
   "cell_type": "markdown",
   "metadata": {},
   "source": [
    "# CatBoost"
   ]
  },
  {
   "cell_type": "code",
   "execution_count": 54,
   "metadata": {},
   "outputs": [],
   "source": [
    "# 分類用のインスタンスを作成\n",
    "from catboost import CatBoostClassifier\n",
    "from sklearn.model_selection import GridSearchCV\n",
    "from sklearn.model_selection import StratifiedKFold\n",
    "model = CatBoostClassifier(iterations=5000,\n",
    "                                                use_best_model=True,       # 最も精度が高かったモデルを使用するかの設定\n",
    "                                                eval_metric='Accuracy')\n",
    "param_grid = {'depth': [4, 5, 6,7,8,9],\n",
    "         'learning_rate' : [0.01, 0.1, 0.15],\n",
    "         'l2_leaf_reg': [1,2,3,4],\n",
    "         'iterations': [200,300, 500,1000]}\n",
    "# パラメータチューニングをグリッドサーチで行うために設定する\n",
    "## このGridSearchCV には注意が必要 scoring は そのスコアを基準にして最適化する\n",
    "skf = StratifiedKFold(n_splits=10,\n",
    "                      shuffle=True,\n",
    "                      random_state=0)\n",
    "grid_result = GridSearchCV(estimator = model,\n",
    "                           param_grid = param_grid,\n",
    "                           scoring = 'accuracy',\n",
    "                           cv = skf,\n",
    "                           verbose=3,\n",
    "                           return_train_score = True,\n",
    "                           n_jobs = -1)\n",
    "# CatBoost, CatBoostRegressorも存在するが損失関数が異なるだけ\n",
    "# CatBoostClassifierの損失関数はlog_lossデフォルト"
   ]
  },
  {
   "cell_type": "code",
   "execution_count": null,
   "metadata": {},
   "outputs": [
    {
     "name": "stdout",
     "output_type": "stream",
     "text": [
      "Fitting 10 folds for each of 288 candidates, totalling 2880 fits\n"
     ]
    },
    {
     "name": "stderr",
     "output_type": "stream",
     "text": [
      "[Parallel(n_jobs=-1)]: Using backend LokyBackend with 4 concurrent workers.\n",
      "[Parallel(n_jobs=-1)]: Done  24 tasks      | elapsed:    7.8s\n",
      "[Parallel(n_jobs=-1)]: Done 120 tasks      | elapsed:   34.3s\n",
      "[Parallel(n_jobs=-1)]: Done 280 tasks      | elapsed:  1.7min\n",
      "[Parallel(n_jobs=-1)]: Done 504 tasks      | elapsed:  6.0min\n",
      "[Parallel(n_jobs=-1)]: Done 792 tasks      | elapsed:  9.6min\n",
      "[Parallel(n_jobs=-1)]: Done 1144 tasks      | elapsed: 17.1min\n",
      "[Parallel(n_jobs=-1)]: Done 1560 tasks      | elapsed: 30.8min\n",
      "[Parallel(n_jobs=-1)]: Done 2040 tasks      | elapsed: 50.5min\n"
     ]
    }
   ],
   "source": [
    "grid_result.fit(train_X,train_y,\n",
    "          eval_set=(test_X, test_y),    # 検証用データ\n",
    "          early_stopping_rounds=1000,  # 10回以上精度が改善しなければ中止\n",
    "          plot=True)                 # 誤差の推移を描画するか否かの設定"
   ]
  },
  {
   "cell_type": "code",
   "execution_count": 50,
   "metadata": {},
   "outputs": [
    {
     "data": {
      "text/plain": [
       "0.9333333333333333"
      ]
     },
     "execution_count": 50,
     "metadata": {},
     "output_type": "execute_result"
    }
   ],
   "source": [
    "grid_result.score(test_X, test_y)"
   ]
  },
  {
   "cell_type": "code",
   "execution_count": 51,
   "metadata": {},
   "outputs": [],
   "source": [
    "#使用するデータの読み込み\n",
    "df_test = pd.read_csv('test.csv')\n",
    "test_data = df_test.replace(\"Male\", 1)\n",
    "test = test_data.replace(\"Female\", 0)\n",
    "test = test.iloc[:,1:]\n",
    "#予測を実施\n",
    "pred = model.predict(test)\n",
    "pred_df = pd.DataFrame()\n",
    "pred_df['pred'] = pred\n",
    "#今後のワークで、この形式でファイルを提出いただく予定です\n",
    "pred_df.to_csv('./pred.csv')"
   ]
  }
 ],
 "metadata": {
  "kernelspec": {
   "display_name": "Python 3",
   "language": "python",
   "name": "python3"
  },
  "language_info": {
   "codemirror_mode": {
    "name": "ipython",
    "version": 3
   },
   "file_extension": ".py",
   "mimetype": "text/x-python",
   "name": "python",
   "nbconvert_exporter": "python",
   "pygments_lexer": "ipython3",
   "version": "3.7.1"
  }
 },
 "nbformat": 4,
 "nbformat_minor": 2
}
